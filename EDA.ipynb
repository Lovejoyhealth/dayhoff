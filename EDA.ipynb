{
 "cells": [
  {
   "cell_type": "code",
   "execution_count": 7,
   "metadata": {},
   "outputs": [],
   "source": [
    "import torch\n",
    "import json\n",
    "import pandas as pd\n",
    "import seaborn as sns\n",
    "import matplotlib.pyplot as plt\n",
    "from sequence_models.utils import parse_fasta"
   ]
  },
  {
   "cell_type": "code",
   "execution_count": null,
   "metadata": {},
   "outputs": [
    {
     "name": "stderr",
     "output_type": "stream",
     "text": [
      "/home/samirchar/miniconda3/envs/dayhoff/lib/python3.10/site-packages/huggingface_hub/file_download.py:795: FutureWarning: `resume_download` is deprecated and will be removed in version 1.0.0. Downloads always resume when possible. If you want to force a new download, use `force_download=True`.\n",
      "  warnings.warn(\n",
      "Some weights of EsmForProteinFolding were not initialized from the model checkpoint at facebook/esmfold_v1 and are newly initialized: ['esm.contact_head.regression.bias', 'esm.contact_head.regression.weight']\n",
      "You should probably TRAIN this model on a down-stream task to be able to use it for predictions and inference.\n"
     ]
    }
   ],
   "source": [
    "#Running ESM Fold code\n",
    "from transformers import AutoTokenizer, EsmForProteinFolding\n",
    "\n",
    "model = EsmForProteinFolding.from_pretrained(\"facebook/esmfold_v1\")\n",
    "model.eval()\n",
    "tokenizer = AutoTokenizer.from_pretrained(\"facebook/esmfold_v1\")\n",
    "inputs = tokenizer([\"MLKNVQVQLV\"], return_tensors=\"pt\", add_special_tokens=False)  # A tiny random peptide\n",
    "with torch.no_grad():\n",
    "    outputs = model(**inputs)\n",
    "folded_positions = outputs.positions"
   ]
  },
  {
   "cell_type": "code",
   "execution_count": 2,
   "metadata": {},
   "outputs": [],
   "source": [
    "from Bio import SeqIO\n",
    "from Bio.Seq import Seq\n",
    "from Bio.SeqRecord import SeqRecord\n",
    "\n",
    "def read_fasta(data_path: str,\n",
    "               sep: str =\" \",\n",
    "               ignore_labels = False,\n",
    "               n_seqs: int = None\n",
    "               ):\n",
    "    \"\"\"\n",
    "    Reads a FASTA file and returns a list of tuples containing sequences, ids, and labels.\n",
    "    \"\"\"\n",
    "\n",
    "    n_seqs = n_seqs if n_seqs is not None else float(\"inf\")\n",
    "    sequences_with_ids_and_labels = []\n",
    "    for idx,record in enumerate(SeqIO.parse(data_path, \"fasta\")):\n",
    "        sequence = str(record.seq)\n",
    "        sequence_id = record.id\n",
    "\n",
    "\n",
    "        # always return dummy labels unless we are not ignoring the labels and the labels are present\n",
    "        labels = []\n",
    "        has_labels = False\n",
    "        \n",
    "        # labels[0] contains the sequence ID, and the rest of the labels are GO terms.\n",
    "        temp = record.description.split(sep)[1:] \n",
    "        has_labels = len(temp) > 0\n",
    "\n",
    "        if has_labels and not ignore_labels:\n",
    "            labels = temp\n",
    "\n",
    "        # Return a tuple of sequence, sequence_id, and labels\n",
    "        sequences_with_ids_and_labels.append((sequence, sequence_id, labels))\n",
    "\n",
    "        if idx + 1 >= n_seqs:\n",
    "            break\n",
    "\n",
    "    return sequences_with_ids_and_labels, has_labels\n",
    "\n",
    "\n",
    "def save_to_fasta(sequence_id_labels_tuples,\n",
    "                  output_file,\n",
    "                  no_annotations = False):\n",
    "    \"\"\"\n",
    "    Save a list of tuples in the form (sequence, [labels]) to a FASTA file.\n",
    "\n",
    "    :param sequence_label_tuples: List of tuples containing sequences and labels\n",
    "    :param output_file: Path to the output FASTA file\n",
    "    \"\"\"\n",
    "    records = []\n",
    "\n",
    "\n",
    "    for _, (\n",
    "        sequence,\n",
    "        id,\n",
    "        labels,\n",
    "    ) in enumerate(sequence_id_labels_tuples):\n",
    "        # Create a description from labels, joined by space\n",
    "        if no_annotations:\n",
    "            description = \"\"\n",
    "        else:\n",
    "            description = \" \".join(labels)\n",
    "\n",
    "        record = SeqRecord(Seq(sequence), id=id, description=description)\n",
    "        records.append(record)\n",
    "\n",
    "    # Write the SeqRecord objects to a FASTA file\n",
    "    with open(output_file, \"w\") as output_handle:\n",
    "        SeqIO.write(records, output_handle, \"fasta\")\n",
    "        print(\"Saved FASTA file to \" + output_file)"
   ]
  },
  {
   "cell_type": "code",
   "execution_count": 3,
   "metadata": {},
   "outputs": [],
   "source": [
    "with open('dayhoffdata/uniref50_202401/splits.json','r') as f:\n",
    "    splits = json.load(f)"
   ]
  },
  {
   "cell_type": "code",
   "execution_count": null,
   "metadata": {},
   "outputs": [
    {
     "name": "stdout",
     "output_type": "stream",
     "text": [
      "Saved FASTA file to dayhoffdata/uniref50_202401/consensus_sample.fasta\n",
      "Saved FASTA file to dayhoffdata/uniref50_202401/consensus_sample_no_annotations.fasta\n"
     ]
    },
    {
     "ename": "",
     "evalue": "",
     "output_type": "error",
     "traceback": [
      "\u001b[1;31mThe Kernel crashed while executing code in the current cell or a previous cell. \n",
      "\u001b[1;31mPlease review the code in the cell(s) to identify a possible cause of the failure. \n",
      "\u001b[1;31mClick <a href='https://aka.ms/vscodeJupyterKernelCrash'>here</a> for more info. \n",
      "\u001b[1;31mView Jupyter <a href='command:jupyter.viewOutput'>log</a> for further details."
     ]
    }
   ],
   "source": [
    "#Create small sample faste for testing\n",
    "uniref_sample,_ = sequence_id_labels_tuples=read_fasta('dayhoffdata/uniref50_202401/consensus.fasta',\n",
    "            n_seqs=100\n",
    "            )\n",
    "save_to_fasta(uniref_sample, output_file='dayhoffdata/uniref50_202401/consensus_sample.fasta')\n",
    "save_to_fasta(uniref_sample, output_file='dayhoffdata/uniref50_202401/consensus_sample_no_annotations.fasta',no_annotations=True)"
   ]
  },
  {
   "cell_type": "code",
   "execution_count": null,
   "metadata": {},
   "outputs": [],
   "source": [
    "# python fidelity.py --path_to_input_fasta ../dayhoffdata/uniref50_202401/consensus_sample.fasta --output_path ../dayhoffdata/uniref50_202401/ --fold_method omegafold --subbatch_size 20 --restart"
   ]
  }
 ],
 "metadata": {
  "kernelspec": {
   "display_name": "dayhoff",
   "language": "python",
   "name": "python3"
  },
  "language_info": {
   "codemirror_mode": {
    "name": "ipython",
    "version": 3
   },
   "file_extension": ".py",
   "mimetype": "text/x-python",
   "name": "python",
   "nbconvert_exporter": "python",
   "pygments_lexer": "ipython3",
   "version": "3.10.16"
  }
 },
 "nbformat": 4,
 "nbformat_minor": 2
}
